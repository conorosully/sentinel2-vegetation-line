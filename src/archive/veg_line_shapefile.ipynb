{
 "cells": [
  {
   "cell_type": "code",
   "execution_count": 2,
   "metadata": {},
   "outputs": [
    {
     "name": "stdout",
     "output_type": "stream",
     "text": [
      "        DATE_  OBJECTID                                       Shoreltype  \\\n",
      "0  06/06/2014         5                     Vegetation Line ITM/OSi 2014   \n",
      "1  06/06/2013         4                     Vegetation Line ITM/OSi 2013   \n",
      "2  08/09/2000         1                     Vegetation Line ITM/OSi 2000   \n",
      "3  01/07/2011         3  Vegetation Line OSi ITM/DGlobe Dublin July 2011   \n",
      "4  06/06/2019         7                     Vegetation Line ITM/OSi 2019   \n",
      "\n",
      "   UNCERTAINT     Shape_Leng  \\\n",
      "0         1.0   28656.892288   \n",
      "1         1.0   69477.078697   \n",
      "2         2.0  104443.420728   \n",
      "3         1.0   92525.967523   \n",
      "4         1.0   81552.076187   \n",
      "\n",
      "                                            geometry  \n",
      "0  MULTILINESTRING Z ((725802.287 759521.405 0, 7...  \n",
      "1  MULTILINESTRING Z ((724951.004 740829.085 0, 7...  \n",
      "2  MULTILINESTRING Z ((722927.312 752704.099 0, 7...  \n",
      "3  MULTILINESTRING Z ((720223.305 764397.783 0, 7...  \n",
      "4  MULTILINESTRING Z ((721301.735 733825.41 0, 72...  \n",
      "0    06/06/2014\n",
      "1    06/06/2013\n",
      "2    08/09/2000\n",
      "3    01/07/2011\n",
      "4    06/06/2019\n",
      "5    03/07/2005\n",
      "6    26/04/2021\n",
      "7    06/06/2017\n",
      "Name: DATE_, dtype: object\n"
     ]
    }
   ],
   "source": [
    "import geopandas as gpd\n",
    "\n",
    "# Load the shapefile\n",
    "shapefile_path = \"../data/DUBLIN 2000_2021_ITM/DUShorelines_OSi.shp\"  # Update with actual path\n",
    "gdf = gpd.read_file(shapefile_path)\n",
    "\n",
    "# Display the first few rows\n",
    "print(gdf.head())\n",
    "\n",
    "print(gdf['DATE_'])"
   ]
  },
  {
   "cell_type": "code",
   "execution_count": null,
   "metadata": {},
   "outputs": [],
   "source": []
  },
  {
   "cell_type": "code",
   "execution_count": 3,
   "metadata": {},
   "outputs": [
    {
     "data": {
      "text/plain": [
       "Index(['DATE_', 'OBJECTID', 'Shoreltype', 'UNCERTAINT', 'Shape_Leng',\n",
       "       'geometry'],\n",
       "      dtype='object')"
      ]
     },
     "execution_count": 3,
     "metadata": {},
     "output_type": "execute_result"
    }
   ],
   "source": [
    "gdf.columns"
   ]
  },
  {
   "cell_type": "code",
   "execution_count": 6,
   "metadata": {},
   "outputs": [
    {
     "data": {
      "text/plain": [
       "<matplotlib.image.AxesImage at 0x14d239090>"
      ]
     },
     "execution_count": 6,
     "metadata": {},
     "output_type": "execute_result"
    },
    {
     "ename": "",
     "evalue": "",
     "output_type": "error",
     "traceback": [
      "\u001b[1;31mThe Kernel crashed while executing code in the current cell or a previous cell. \n",
      "\u001b[1;31mPlease review the code in the cell(s) to identify a possible cause of the failure. \n",
      "\u001b[1;31mClick <a href='https://aka.ms/vscodeJupyterKernelCrash'>here</a> for more info. \n",
      "\u001b[1;31mView Jupyter <a href='command:jupyter.viewOutput'>log</a> for further details."
     ]
    }
   ],
   "source": [
    "import os\n",
    "import glob\n",
    "import rasterio\n",
    "from rasterio.merge import merge\n",
    "import matplotlib.pyplot as plt\n",
    "import numpy as np\n",
    "import geopandas as gpd\n",
    "\n",
    "# Define the directory containing TIFF images\n",
    "tif_dir = \"../data/howth_ariel_2019\"  # Update with your path\n",
    "\n",
    "# Get a list of all .tif files\n",
    "tif_files = glob.glob(os.path.join(tif_dir, \"*.tif\"))\n",
    "\n",
    "# Open and merge the raster files\n",
    "src_files = [rasterio.open(tif) for tif in tif_files]\n",
    "mosaic, transform = merge(src_files)\n",
    "\n",
    "# Update metadata\n",
    "meta = src_files[0].meta.copy()\n",
    "meta.update({\"height\": mosaic.shape[1], \"width\": mosaic.shape[2], \"transform\": transform})\n",
    "\n",
    "# Close files\n",
    "for src in src_files:\n",
    "    src.close()\n",
    "\n",
    "# Plot the merged raster\n",
    "fig, ax = plt.subplots(figsize=(10, 10))\n",
    "ax.imshow(mosaic[0], cmap=\"gray\", extent=(transform[2], transform[2] + meta[\"width\"] * transform[0], \n",
    "                                           transform[5] + meta[\"height\"] * transform[4], transform[5]))\n"
   ]
  },
  {
   "cell_type": "code",
   "execution_count": 4,
   "metadata": {},
   "outputs": [
    {
     "data": {
      "image/png": "[encoded data removed]",
      "text/plain": [
       "<Figure size 640x480 with 1 Axes>"
      ]
     },
     "metadata": {},
     "output_type": "display_data"
    }
   ],
   "source": [
    "import matplotlib.pyplot as plt\n",
    "\n",
    "gdf.plot()\n",
    "plt.show()"
   ]
  }
 ],
 "metadata": {
  "kernelspec": {
   "display_name": "sics venv",
   "language": "python",
   "name": "sics"
  },
  "language_info": {
   "codemirror_mode": {
    "name": "ipython",
    "version": 3
   },
   "file_extension": ".py",
   "mimetype": "text/x-python",
   "name": "python",
   "nbconvert_exporter": "python",
   "pygments_lexer": "ipython3",
   "version": "3.11.9"
  }
 },
 "nbformat": 4,
 "nbformat_minor": 2
}
